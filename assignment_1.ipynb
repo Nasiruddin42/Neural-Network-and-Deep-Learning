{
  "cells": [
    {
      "cell_type": "markdown",
      "id": "64af79b2",
      "metadata": {
        "id": "64af79b2"
      },
      "source": [
        "### Import necessary module"
      ]
    },
    {
      "cell_type": "code",
      "execution_count": 3,
      "id": "1cf841b2",
      "metadata": {
        "id": "1cf841b2"
      },
      "outputs": [],
      "source": [
        "import numpy as np\n",
        "import matplotlib as plt\n",
        "import tensorflow as tf\n",
        "from tensorflow.keras.models import Model\n",
        "from tensorflow.keras.layers import Input, Dense, Activation, Flatten\n",
        "from tensorflow.keras.datasets import cifar100\n",
        "import time"
      ]
    },
    {
      "cell_type": "markdown",
      "id": "395147f1",
      "metadata": {
        "id": "395147f1"
      },
      "source": [
        "### Data pre-processing"
      ]
    },
    {
      "cell_type": "code",
      "execution_count": 4,
      "id": "02d4b251",
      "metadata": {
        "colab": {
          "base_uri": "https://localhost:8080/"
        },
        "id": "02d4b251",
        "outputId": "ab480412-2d9f-4757-9b35-929424074428"
      },
      "outputs": [
        {
          "output_type": "stream",
          "name": "stdout",
          "text": [
            "Downloading data from https://www.cs.toronto.edu/~kriz/cifar-100-python.tar.gz\n",
            "\u001b[1m169001437/169001437\u001b[0m \u001b[32m━━━━━━━━━━━━━━━━━━━━\u001b[0m\u001b[37m\u001b[0m \u001b[1m13s\u001b[0m 0us/step\n"
          ]
        }
      ],
      "source": [
        "(X_train, y_train), (X_test, y_test) = cifar100.load_data()"
      ]
    },
    {
      "cell_type": "code",
      "execution_count": 5,
      "id": "0bfec3ea",
      "metadata": {
        "colab": {
          "base_uri": "https://localhost:8080/"
        },
        "id": "0bfec3ea",
        "outputId": "b5441d9d-392b-45fc-e836-ddab20e4f0c2"
      },
      "outputs": [
        {
          "output_type": "stream",
          "name": "stdout",
          "text": [
            "(50000, 32, 32, 3)\n",
            "(50000, 32, 32, 3)\n"
          ]
        }
      ],
      "source": [
        "print(X_train.shape)\n",
        "number_of_sample = 20\n",
        "first_twenty = []\n",
        "for i in range(number_of_sample):\n",
        "  first_twenty.append(i)\n",
        "\n",
        "mask = np.isin(y_train, first_twenty)\n",
        "y_train_all = y_train[mask]\n",
        "X_train_all = X_train[mask.squeeze()]\n",
        "\n",
        "\n",
        "mask = np.isin(y_test, first_twenty)\n",
        "X_test = X_test[mask.squeeze()]\n",
        "y_test = y_test[mask]\n",
        "print(X_train.shape)"
      ]
    },
    {
      "cell_type": "code",
      "execution_count": 6,
      "id": "cf40ad98",
      "metadata": {
        "id": "cf40ad98"
      },
      "outputs": [],
      "source": [
        "X_train, y_train = X_train_all[ : int(len(X_train_all) * 0.9)], y_train_all[ : int(len(X_train_all) * 0.9)]\n",
        "X_val, y_val = X_train_all[int(len(X_train_all) * 0.9) : ], y_train_all[int(len(X_train_all) * 0.9) : ]"
      ]
    },
    {
      "cell_type": "code",
      "execution_count": 7,
      "id": "e8e0a96b",
      "metadata": {
        "colab": {
          "base_uri": "https://localhost:8080/"
        },
        "id": "e8e0a96b",
        "outputId": "53d344dd-618a-4dd0-943d-3e9af8ecc7c8"
      },
      "outputs": [
        {
          "output_type": "stream",
          "name": "stdout",
          "text": [
            "(9000, 32, 32, 3) (9000,)\n",
            "(2000, 32, 32, 3) (2000,)\n",
            "(1000, 32, 32, 3) (1000,)\n"
          ]
        }
      ],
      "source": [
        "print(X_train.shape, y_train.shape)\n",
        "print(X_test.shape, y_test.shape)\n",
        "print(X_val.shape, y_val.shape)"
      ]
    },
    {
      "cell_type": "code",
      "execution_count": 8,
      "id": "7d7c8712",
      "metadata": {
        "id": "7d7c8712"
      },
      "outputs": [],
      "source": [
        "def preprocess(images, label):\n",
        "  images = tf.image.resize(images, [224, 224])\n",
        "  images = images / 255.0\n",
        "  return images, label"
      ]
    },
    {
      "cell_type": "code",
      "execution_count": 9,
      "id": "1872e75c",
      "metadata": {
        "id": "1872e75c"
      },
      "outputs": [],
      "source": [
        "train_dataset = tf.data.Dataset.from_tensor_slices((X_train, y_train))\n",
        "val_dataset = tf.data.Dataset.from_tensor_slices((X_val, y_val))\n",
        "test_dataset = tf.data.Dataset.from_tensor_slices((X_test, y_test))\n",
        "\n",
        "train_dataset = train_dataset.map(preprocess).shuffle(1000).batch(32).prefetch(tf.data.AUTOTUNE)\n",
        "val_dataset = val_dataset.map(preprocess).batch(32).prefetch(tf.data.AUTOTUNE)\n",
        "test_dataset = test_dataset.map(preprocess).batch(32).prefetch(tf.data.AUTOTUNE)"
      ]
    },
    {
      "cell_type": "code",
      "source": [
        "def inference_time(model, X_val_resized):\n",
        "\n",
        "  start_time = time.time()\n",
        "  predictions = model.predict(X_val_resized)\n",
        "  end_time = time.time()\n",
        "\n",
        "  inference_time = end_time - start_time\n",
        "\n",
        "  return inference_time"
      ],
      "metadata": {
        "id": "ecBYjoqYw15o"
      },
      "id": "ecBYjoqYw15o",
      "execution_count": 10,
      "outputs": []
    },
    {
      "cell_type": "markdown",
      "id": "010b5ae3",
      "metadata": {
        "id": "010b5ae3"
      },
      "source": [
        "### Model - 1. VGG16"
      ]
    },
    {
      "cell_type": "code",
      "execution_count": 14,
      "id": "fce92052",
      "metadata": {
        "colab": {
          "base_uri": "https://localhost:8080/"
        },
        "id": "fce92052",
        "outputId": "b6e5c167-0d1f-4366-c8ee-6a99c6bf1f5b"
      },
      "outputs": [
        {
          "output_type": "stream",
          "name": "stdout",
          "text": [
            "Epoch 1/5\n",
            "\u001b[1m282/282\u001b[0m \u001b[32m━━━━━━━━━━━━━━━━━━━━\u001b[0m\u001b[37m\u001b[0m \u001b[1m59s\u001b[0m 201ms/step - accuracy: 0.0515 - loss: 3.0070 - val_accuracy: 0.0430 - val_loss: 2.9964\n",
            "Epoch 2/5\n",
            "\u001b[1m282/282\u001b[0m \u001b[32m━━━━━━━━━━━━━━━━━━━━\u001b[0m\u001b[37m\u001b[0m \u001b[1m81s\u001b[0m 202ms/step - accuracy: 0.0526 - loss: 2.9973 - val_accuracy: 0.0410 - val_loss: 2.9972\n",
            "Epoch 3/5\n",
            "\u001b[1m282/282\u001b[0m \u001b[32m━━━━━━━━━━━━━━━━━━━━\u001b[0m\u001b[37m\u001b[0m \u001b[1m83s\u001b[0m 206ms/step - accuracy: 0.0521 - loss: 2.9958 - val_accuracy: 0.0410 - val_loss: 2.9974\n",
            "Epoch 4/5\n",
            "\u001b[1m282/282\u001b[0m \u001b[32m━━━━━━━━━━━━━━━━━━━━\u001b[0m\u001b[37m\u001b[0m \u001b[1m82s\u001b[0m 207ms/step - accuracy: 0.0524 - loss: 2.9958 - val_accuracy: 0.0410 - val_loss: 2.9978\n",
            "Epoch 5/5\n",
            "\u001b[1m282/282\u001b[0m \u001b[32m━━━━━━━━━━━━━━━━━━━━\u001b[0m\u001b[37m\u001b[0m \u001b[1m82s\u001b[0m 206ms/step - accuracy: 0.0503 - loss: 2.9959 - val_accuracy: 0.0410 - val_loss: 2.9980\n",
            "\u001b[1m32/32\u001b[0m \u001b[32m━━━━━━━━━━━━━━━━━━━━\u001b[0m\u001b[37m\u001b[0m \u001b[1m7s\u001b[0m 192ms/step\n",
            "Inference time: 10.4609 seconds\n"
          ]
        }
      ],
      "source": [
        "from tensorflow.keras.applications import VGG16\n",
        "\n",
        "vgg16 = VGG16(input_tensor = Input(shape=(224, 224, 3)), weights='imagenet', include_top=False)\n",
        "vgg16.trainable = False\n",
        "\n",
        "x = vgg16.output\n",
        "x = Flatten()(x)\n",
        "x = Dense(32, activation = 'relu', name = 'Dense-layer')(x)\n",
        "outputs = Dense(20, activation = 'softmax', name = 'output-layer')(x)\n",
        "model = Model(vgg16.input, outputs, name = 'VGG16')\n",
        "model.compile(optimizer=tf.keras.optimizers.Adam(0.001), loss = 'sparse_categorical_crossentropy', metrics = ['accuracy'])\n",
        "history = model.fit(train_dataset, epochs=5, validation_data = val_dataset)\n",
        "\n",
        "X_val_resized = tf.image.resize(X_val, (224, 224))\n",
        "\n",
        "predictions = inference_time(model, X_val_resized)"
      ]
    },
    {
      "cell_type": "code",
      "execution_count": 15,
      "id": "84c81650",
      "metadata": {
        "colab": {
          "base_uri": "https://localhost:8080/"
        },
        "id": "84c81650",
        "outputId": "5dd42cb8-8f08-4d5c-ad14-00bdc84b1d5d"
      },
      "outputs": [
        {
          "output_type": "stream",
          "name": "stdout",
          "text": [
            "\u001b[1m63/63\u001b[0m \u001b[32m━━━━━━━━━━━━━━━━━━━━\u001b[0m\u001b[37m\u001b[0m \u001b[1m18s\u001b[0m 279ms/step - accuracy: 0.0488 - loss: 2.9961\n",
            "Training Accuracy: 0.0468\n",
            "Training Loss: 2.9960\n",
            "Validation Accuracy: 0.0410\n",
            "Validation Loss: 2.9980\n",
            "Test Accuracy: 0.0500\n",
            "Test Loss: 2.9958\n"
          ]
        }
      ],
      "source": [
        "final_epoch = -1  # last epoch\n",
        "\n",
        "train_loss = history.history['loss'][final_epoch]\n",
        "train_accuracy = history.history['accuracy'][final_epoch]\n",
        "val_loss = history.history['val_loss'][final_epoch]\n",
        "val_accuracy = history.history['val_accuracy'][final_epoch]\n",
        "test_loss, test_accuracy = model.evaluate(test_dataset)\n",
        "\n",
        "print(f\"Training Accuracy: {train_accuracy:.4f}\")\n",
        "print(f\"Training Loss: {train_loss:.4f}\")\n",
        "print(f\"Validation Accuracy: {val_accuracy:.4f}\")\n",
        "print(f\"Validation Loss: {val_loss:.4f}\")\n",
        "print(f\"Test Accuracy: {test_accuracy:.4f}\")\n",
        "print(f\"Test Loss: {test_loss:.4f}\")"
      ]
    },
    {
      "cell_type": "markdown",
      "id": "bc9f01ca",
      "metadata": {
        "id": "bc9f01ca"
      },
      "source": [
        "### Model - 2. VGG19"
      ]
    },
    {
      "cell_type": "code",
      "execution_count": 22,
      "id": "646067c8",
      "metadata": {
        "colab": {
          "base_uri": "https://localhost:8080/"
        },
        "id": "646067c8",
        "outputId": "80ae4836-5085-45dc-eec9-6b0bf63c9aff"
      },
      "outputs": [
        {
          "output_type": "stream",
          "name": "stdout",
          "text": [
            "Epoch 1/5\n",
            "\u001b[1m282/282\u001b[0m \u001b[32m━━━━━━━━━━━━━━━━━━━━\u001b[0m\u001b[37m\u001b[0m \u001b[1m69s\u001b[0m 236ms/step - accuracy: 0.0504 - loss: 3.0489 - val_accuracy: 0.0450 - val_loss: 2.9966\n",
            "Epoch 2/5\n",
            "\u001b[1m282/282\u001b[0m \u001b[32m━━━━━━━━━━━━━━━━━━━━\u001b[0m\u001b[37m\u001b[0m \u001b[1m84s\u001b[0m 248ms/step - accuracy: 0.0548 - loss: 2.9958 - val_accuracy: 0.0450 - val_loss: 2.9970\n",
            "Epoch 3/5\n",
            "\u001b[1m282/282\u001b[0m \u001b[32m━━━━━━━━━━━━━━━━━━━━\u001b[0m\u001b[37m\u001b[0m \u001b[1m72s\u001b[0m 254ms/step - accuracy: 0.0544 - loss: 2.9959 - val_accuracy: 0.0350 - val_loss: 2.9976\n",
            "Epoch 4/5\n",
            "\u001b[1m282/282\u001b[0m \u001b[32m━━━━━━━━━━━━━━━━━━━━\u001b[0m\u001b[37m\u001b[0m \u001b[1m83s\u001b[0m 256ms/step - accuracy: 0.0534 - loss: 2.9957 - val_accuracy: 0.0410 - val_loss: 2.9979\n",
            "Epoch 5/5\n",
            "\u001b[1m282/282\u001b[0m \u001b[32m━━━━━━━━━━━━━━━━━━━━\u001b[0m\u001b[37m\u001b[0m \u001b[1m70s\u001b[0m 246ms/step - accuracy: 0.0548 - loss: 2.9958 - val_accuracy: 0.0350 - val_loss: 2.9979\n",
            "\u001b[1m32/32\u001b[0m \u001b[32m━━━━━━━━━━━━━━━━━━━━\u001b[0m\u001b[37m\u001b[0m \u001b[1m8s\u001b[0m 229ms/step\n",
            "Inference time: 8.0746 seconds\n"
          ]
        }
      ],
      "source": [
        "from tensorflow.keras.applications import VGG19\n",
        "\n",
        "vgg19 = VGG19(input_tensor = Input(shape=(224, 224, 3)), weights='imagenet', include_top=False)\n",
        "vgg19.trainable = False\n",
        "x = vgg19.output\n",
        "x = Flatten()(x)\n",
        "x = Dense(32, activation = 'relu', name = 'Dense-layer')(x)\n",
        "outputs = Dense(20, activation = 'softmax', name = 'output-layer')(x)\n",
        "model = Model(vgg19.input, outputs, name = 'VGG19')\n",
        "model.compile(optimizer=tf.keras.optimizers.Adam(0.001), loss = 'sparse_categorical_crossentropy', metrics = ['accuracy'])\n",
        "history = model.fit(train_dataset, epochs=5, validation_data = val_dataset)\n",
        "\n",
        "X_val_resized = tf.image.resize(X_val, (224, 224))\n",
        "\n",
        "predictions = inference_time(model, X_val_resized)\n",
        "print(f\"Inference time: {predictions:.4f} seconds\")"
      ]
    },
    {
      "cell_type": "code",
      "execution_count": 21,
      "id": "0a99b245",
      "metadata": {
        "colab": {
          "base_uri": "https://localhost:8080/"
        },
        "id": "0a99b245",
        "outputId": "c94b3819-e2c0-4706-ba0f-e4063895e3cb"
      },
      "outputs": [
        {
          "output_type": "stream",
          "name": "stdout",
          "text": [
            "\u001b[1m63/63\u001b[0m \u001b[32m━━━━━━━━━━━━━━━━━━━━\u001b[0m\u001b[37m\u001b[0m \u001b[1m13s\u001b[0m 210ms/step - accuracy: 0.0421 - loss: 2.9959\n",
            "Training Accuracy: 0.0462\n",
            "Training Loss: 3.0087\n",
            "Validation Accuracy: 0.0430\n",
            "Validation Loss: 2.9965\n",
            "Test Accuracy: 0.0500\n",
            "Test Loss: 2.9958\n"
          ]
        }
      ],
      "source": [
        "final_epoch = -1  # last epoch\n",
        "\n",
        "train_loss = history.history['loss'][final_epoch]\n",
        "train_accuracy = history.history['accuracy'][final_epoch]\n",
        "val_loss = history.history['val_loss'][final_epoch]\n",
        "val_accuracy = history.history['val_accuracy'][final_epoch]\n",
        "test_loss, test_accuracy = model.evaluate(test_dataset)\n",
        "\n",
        "print(f\"Training Accuracy: {train_accuracy:.4f}\")\n",
        "print(f\"Training Loss: {train_loss:.4f}\")\n",
        "print(f\"Validation Accuracy: {val_accuracy:.4f}\")\n",
        "print(f\"Validation Loss: {val_loss:.4f}\")\n",
        "print(f\"Test Accuracy: {test_accuracy:.4f}\")\n",
        "print(f\"Test Loss: {test_loss:.4f}\")"
      ]
    },
    {
      "cell_type": "markdown",
      "id": "b345a352",
      "metadata": {
        "id": "b345a352"
      },
      "source": [
        "### Model - 3. DenseNet121"
      ]
    },
    {
      "cell_type": "code",
      "execution_count": 23,
      "id": "e88a3b44",
      "metadata": {
        "colab": {
          "base_uri": "https://localhost:8080/"
        },
        "id": "e88a3b44",
        "outputId": "e0b2e5ce-9852-4c24-a40d-5c1103c92a89"
      },
      "outputs": [
        {
          "output_type": "stream",
          "name": "stdout",
          "text": [
            "Downloading data from https://storage.googleapis.com/tensorflow/keras-applications/densenet/densenet121_weights_tf_dim_ordering_tf_kernels_notop.h5\n",
            "\u001b[1m29084464/29084464\u001b[0m \u001b[32m━━━━━━━━━━━━━━━━━━━━\u001b[0m\u001b[37m\u001b[0m \u001b[1m0s\u001b[0m 0us/step\n",
            "Epoch 1/5\n",
            "\u001b[1m282/282\u001b[0m \u001b[32m━━━━━━━━━━━━━━━━━━━━\u001b[0m\u001b[37m\u001b[0m \u001b[1m91s\u001b[0m 217ms/step - accuracy: 0.0566 - loss: 3.2453 - val_accuracy: 0.0730 - val_loss: 2.8607\n",
            "Epoch 2/5\n",
            "\u001b[1m282/282\u001b[0m \u001b[32m━━━━━━━━━━━━━━━━━━━━\u001b[0m\u001b[37m\u001b[0m \u001b[1m27s\u001b[0m 83ms/step - accuracy: 0.0944 - loss: 2.8251 - val_accuracy: 0.0940 - val_loss: 2.7594\n",
            "Epoch 3/5\n",
            "\u001b[1m282/282\u001b[0m \u001b[32m━━━━━━━━━━━━━━━━━━━━\u001b[0m\u001b[37m\u001b[0m \u001b[1m42s\u001b[0m 85ms/step - accuracy: 0.1001 - loss: 2.7544 - val_accuracy: 0.0960 - val_loss: 2.7312\n",
            "Epoch 4/5\n",
            "\u001b[1m282/282\u001b[0m \u001b[32m━━━━━━━━━━━━━━━━━━━━\u001b[0m\u001b[37m\u001b[0m \u001b[1m41s\u001b[0m 85ms/step - accuracy: 0.1068 - loss: 2.7003 - val_accuracy: 0.0990 - val_loss: 2.7110\n",
            "Epoch 5/5\n",
            "\u001b[1m282/282\u001b[0m \u001b[32m━━━━━━━━━━━━━━━━━━━━\u001b[0m\u001b[37m\u001b[0m \u001b[1m41s\u001b[0m 85ms/step - accuracy: 0.1178 - loss: 2.6384 - val_accuracy: 0.1180 - val_loss: 2.6625\n",
            "\u001b[1m32/32\u001b[0m \u001b[32m━━━━━━━━━━━━━━━━━━━━\u001b[0m\u001b[37m\u001b[0m \u001b[1m27s\u001b[0m 462ms/step\n",
            "Inference time: 40.9883 seconds\n"
          ]
        }
      ],
      "source": [
        "from tensorflow.keras.applications import DenseNet121\n",
        "\n",
        "densenet = DenseNet121(input_tensor = Input(shape=(224, 224, 3)), weights='imagenet', include_top=False)\n",
        "densenet.trainable = False\n",
        "x = densenet.output\n",
        "x = Flatten()(x)\n",
        "x = Dense(32, activation = 'relu', name = 'Dense-layer')(x)\n",
        "outputs = Dense(20, activation = 'softmax', name = 'output-layer')(x)\n",
        "model = Model(densenet.input, outputs, name = 'DensNet121')\n",
        "model.compile(optimizer=tf.keras.optimizers.Adam(0.001), loss = 'sparse_categorical_crossentropy', metrics = ['accuracy'])\n",
        "history = model.fit(train_dataset, epochs=5, validation_data = val_dataset)\n",
        "\n",
        "X_val_resized = tf.image.resize(X_val, (224, 224))\n",
        "\n",
        "predictions = inference_time(model, X_val_resized)\n",
        "print(f\"Inference time: {predictions:.4f} seconds\")"
      ]
    },
    {
      "cell_type": "code",
      "execution_count": 24,
      "id": "61404fbd",
      "metadata": {
        "colab": {
          "base_uri": "https://localhost:8080/"
        },
        "id": "61404fbd",
        "outputId": "412600e4-81ae-484a-a12a-314b310dac6f"
      },
      "outputs": [
        {
          "output_type": "stream",
          "name": "stdout",
          "text": [
            "\u001b[1m63/63\u001b[0m \u001b[32m━━━━━━━━━━━━━━━━━━━━\u001b[0m\u001b[37m\u001b[0m \u001b[1m16s\u001b[0m 256ms/step - accuracy: 0.1216 - loss: 2.6328\n",
            "Training Accuracy: 0.1196\n",
            "Training Loss: 2.6303\n",
            "Validation Accuracy: 0.1180\n",
            "Validation Loss: 2.6625\n",
            "Test Accuracy: 0.1195\n",
            "Test Loss: 2.6613\n"
          ]
        }
      ],
      "source": [
        "final_epoch = -1  # last epoch\n",
        "\n",
        "train_loss = history.history['loss'][final_epoch]\n",
        "train_accuracy = history.history['accuracy'][final_epoch]\n",
        "val_loss = history.history['val_loss'][final_epoch]\n",
        "val_accuracy = history.history['val_accuracy'][final_epoch]\n",
        "test_loss, test_accuracy = model.evaluate(test_dataset)\n",
        "\n",
        "print(f\"Training Accuracy: {train_accuracy:.4f}\")\n",
        "print(f\"Training Loss: {train_loss:.4f}\")\n",
        "print(f\"Validation Accuracy: {val_accuracy:.4f}\")\n",
        "print(f\"Validation Loss: {val_loss:.4f}\")\n",
        "print(f\"Test Accuracy: {test_accuracy:.4f}\")\n",
        "print(f\"Test Loss: {test_loss:.4f}\")"
      ]
    },
    {
      "cell_type": "markdown",
      "id": "22eb61c3",
      "metadata": {
        "id": "22eb61c3"
      },
      "source": [
        "### Model - 4. MobileNetV2"
      ]
    },
    {
      "cell_type": "code",
      "execution_count": 11,
      "id": "be8c963f",
      "metadata": {
        "colab": {
          "base_uri": "https://localhost:8080/"
        },
        "id": "be8c963f",
        "outputId": "e250c5c9-f3eb-45a6-cf5d-b68d71ce3f4d"
      },
      "outputs": [
        {
          "output_type": "stream",
          "name": "stderr",
          "text": [
            "/tmp/ipython-input-239586597.py:3: UserWarning: `input_shape` is undefined or non-square, or `rows` is not in [96, 128, 160, 192, 224]. Weights for input shape (224, 224) will be loaded as the default.\n",
            "  mobilenetV2 = MobileNetV2(input_tensor = Input(shape=(224, 224, 3)), weights='imagenet', include_top=False)\n"
          ]
        },
        {
          "output_type": "stream",
          "name": "stdout",
          "text": [
            "Downloading data from https://storage.googleapis.com/tensorflow/keras-applications/mobilenet_v2/mobilenet_v2_weights_tf_dim_ordering_tf_kernels_1.0_224_no_top.h5\n",
            "\u001b[1m9406464/9406464\u001b[0m \u001b[32m━━━━━━━━━━━━━━━━━━━━\u001b[0m\u001b[37m\u001b[0m \u001b[1m1s\u001b[0m 0us/step\n",
            "Epoch 1/5\n",
            "\u001b[1m282/282\u001b[0m \u001b[32m━━━━━━━━━━━━━━━━━━━━\u001b[0m\u001b[37m\u001b[0m \u001b[1m60s\u001b[0m 146ms/step - accuracy: 0.1133 - loss: 3.2035 - val_accuracy: 0.1640 - val_loss: 2.5910\n",
            "Epoch 2/5\n",
            "\u001b[1m282/282\u001b[0m \u001b[32m━━━━━━━━━━━━━━━━━━━━\u001b[0m\u001b[37m\u001b[0m \u001b[1m11s\u001b[0m 37ms/step - accuracy: 0.1970 - loss: 2.4944 - val_accuracy: 0.1620 - val_loss: 2.6603\n",
            "Epoch 3/5\n",
            "\u001b[1m282/282\u001b[0m \u001b[32m━━━━━━━━━━━━━━━━━━━━\u001b[0m\u001b[37m\u001b[0m \u001b[1m20s\u001b[0m 36ms/step - accuracy: 0.2136 - loss: 2.3944 - val_accuracy: 0.2040 - val_loss: 2.5206\n",
            "Epoch 4/5\n",
            "\u001b[1m282/282\u001b[0m \u001b[32m━━━━━━━━━━━━━━━━━━━━\u001b[0m\u001b[37m\u001b[0m \u001b[1m11s\u001b[0m 36ms/step - accuracy: 0.2321 - loss: 2.2674 - val_accuracy: 0.1960 - val_loss: 2.4321\n",
            "Epoch 5/5\n",
            "\u001b[1m282/282\u001b[0m \u001b[32m━━━━━━━━━━━━━━━━━━━━\u001b[0m\u001b[37m\u001b[0m \u001b[1m11s\u001b[0m 35ms/step - accuracy: 0.2601 - loss: 2.1822 - val_accuracy: 0.1910 - val_loss: 2.5138\n",
            "\u001b[1m32/32\u001b[0m \u001b[32m━━━━━━━━━━━━━━━━━━━━\u001b[0m\u001b[37m\u001b[0m \u001b[1m9s\u001b[0m 161ms/step\n",
            "Inference time: 10.2779 seconds\n"
          ]
        }
      ],
      "source": [
        "from tensorflow.keras.applications import MobileNetV2\n",
        "\n",
        "mobilenetV2 = MobileNetV2(input_tensor = Input(shape=(224, 224, 3)), weights='imagenet', include_top=False)\n",
        "mobilenetV2.trainable = False\n",
        "x = mobilenetV2.output\n",
        "x = Flatten()(x)\n",
        "x = Dense(32, activation = 'relu', name = 'Dense-layer')(x)\n",
        "outputs = Dense(20, activation = 'softmax', name = 'output-layer')(x)\n",
        "model = Model(mobilenetV2.input, outputs, name = 'MobileNetV2')\n",
        "model.compile(optimizer=tf.keras.optimizers.Adam(0.001), loss = 'sparse_categorical_crossentropy', metrics = ['accuracy'])\n",
        "history = model.fit(train_dataset, epochs=5, validation_data = val_dataset)\n",
        "\n",
        "X_val_resized = tf.image.resize(X_val, (224, 224))\n",
        "\n",
        "predictions = inference_time(model, X_val_resized)\n",
        "print(f\"Inference time: {predictions:.4f} seconds\")"
      ]
    },
    {
      "cell_type": "code",
      "execution_count": 12,
      "id": "b3c679f1",
      "metadata": {
        "colab": {
          "base_uri": "https://localhost:8080/"
        },
        "id": "b3c679f1",
        "outputId": "e2ebb8ed-f0b9-40ad-df8f-fa0aa4c4ebba"
      },
      "outputs": [
        {
          "output_type": "stream",
          "name": "stdout",
          "text": [
            "\u001b[1m63/63\u001b[0m \u001b[32m━━━━━━━━━━━━━━━━━━━━\u001b[0m\u001b[37m\u001b[0m \u001b[1m11s\u001b[0m 180ms/step - accuracy: 0.2425 - loss: 2.3784\n",
            "Training Accuracy: 0.2576\n",
            "Training Loss: 2.1699\n",
            "Validation Accuracy: 0.1910\n",
            "Validation Loss: 2.5138\n",
            "Test Accuracy: 0.2360\n",
            "Test Loss: 2.3598\n"
          ]
        }
      ],
      "source": [
        "final_epoch = -1  # last epoch\n",
        "\n",
        "train_loss = history.history['loss'][final_epoch]\n",
        "train_accuracy = history.history['accuracy'][final_epoch]\n",
        "val_loss = history.history['val_loss'][final_epoch]\n",
        "val_accuracy = history.history['val_accuracy'][final_epoch]\n",
        "test_loss, test_accuracy = model.evaluate(test_dataset)\n",
        "\n",
        "print(f\"Training Accuracy: {train_accuracy:.4f}\")\n",
        "print(f\"Training Loss: {train_loss:.4f}\")\n",
        "print(f\"Validation Accuracy: {val_accuracy:.4f}\")\n",
        "print(f\"Validation Loss: {val_loss:.4f}\")\n",
        "print(f\"Test Accuracy: {test_accuracy:.4f}\")\n",
        "print(f\"Test Loss: {test_loss:.4f}\")"
      ]
    },
    {
      "cell_type": "markdown",
      "id": "023d5a9c",
      "metadata": {
        "id": "023d5a9c"
      },
      "source": [
        "### Model - 5. ResNet50"
      ]
    },
    {
      "cell_type": "code",
      "execution_count": 13,
      "id": "e2d55fa9",
      "metadata": {
        "colab": {
          "base_uri": "https://localhost:8080/"
        },
        "id": "e2d55fa9",
        "outputId": "e1cfd10c-b8ca-4233-951d-280aba9fb1ee"
      },
      "outputs": [
        {
          "output_type": "stream",
          "name": "stdout",
          "text": [
            "Downloading data from https://storage.googleapis.com/tensorflow/keras-applications/resnet/resnet50_weights_tf_dim_ordering_tf_kernels_notop.h5\n",
            "\u001b[1m94765736/94765736\u001b[0m \u001b[32m━━━━━━━━━━━━━━━━━━━━\u001b[0m\u001b[37m\u001b[0m \u001b[1m5s\u001b[0m 0us/step\n",
            "Epoch 1/5\n",
            "\u001b[1m282/282\u001b[0m \u001b[32m━━━━━━━━━━━━━━━━━━━━\u001b[0m\u001b[37m\u001b[0m \u001b[1m50s\u001b[0m 133ms/step - accuracy: 0.0481 - loss: 3.4531 - val_accuracy: 0.0350 - val_loss: 2.9965\n",
            "Epoch 2/5\n",
            "\u001b[1m282/282\u001b[0m \u001b[32m━━━━━━━━━━━━━━━━━━━━\u001b[0m\u001b[37m\u001b[0m \u001b[1m28s\u001b[0m 96ms/step - accuracy: 0.0566 - loss: 2.9959 - val_accuracy: 0.0350 - val_loss: 2.9971\n",
            "Epoch 3/5\n",
            "\u001b[1m282/282\u001b[0m \u001b[32m━━━━━━━━━━━━━━━━━━━━\u001b[0m\u001b[37m\u001b[0m \u001b[1m30s\u001b[0m 104ms/step - accuracy: 0.0497 - loss: 2.9958 - val_accuracy: 0.0410 - val_loss: 2.9976\n",
            "Epoch 4/5\n",
            "\u001b[1m282/282\u001b[0m \u001b[32m━━━━━━━━━━━━━━━━━━━━\u001b[0m\u001b[37m\u001b[0m \u001b[1m38s\u001b[0m 95ms/step - accuracy: 0.0530 - loss: 2.9959 - val_accuracy: 0.0350 - val_loss: 2.9978\n",
            "Epoch 5/5\n",
            "\u001b[1m282/282\u001b[0m \u001b[32m━━━━━━━━━━━━━━━━━━━━\u001b[0m\u001b[37m\u001b[0m \u001b[1m28s\u001b[0m 96ms/step - accuracy: 0.0524 - loss: 2.9960 - val_accuracy: 0.0410 - val_loss: 2.9981\n",
            "\u001b[1m32/32\u001b[0m \u001b[32m━━━━━━━━━━━━━━━━━━━━\u001b[0m\u001b[37m\u001b[0m \u001b[1m11s\u001b[0m 200ms/step\n",
            "Inference time: 20.6890 seconds\n"
          ]
        }
      ],
      "source": [
        "from tensorflow.keras.applications import ResNet50\n",
        "\n",
        "resnet = ResNet50(input_tensor = Input(shape=(224, 224, 3)), weights='imagenet', include_top=False)\n",
        "resnet.trainable = False\n",
        "x = resnet.output\n",
        "x = Flatten()(x)\n",
        "x = Dense(32, activation = 'relu', name = 'Dense-layer')(x)\n",
        "outputs = Dense(20, activation = 'softmax', name = 'output-layer')(x)\n",
        "model = Model(resnet.input, outputs, name = 'ResNet50')\n",
        "model.compile(optimizer=tf.keras.optimizers.Adam(0.001), loss = 'sparse_categorical_crossentropy', metrics = ['accuracy'])\n",
        "history = model.fit(train_dataset, epochs=5, validation_data = val_dataset)\n",
        "\n",
        "X_val_resized = tf.image.resize(X_val, (224, 224))\n",
        "\n",
        "predictions = inference_time(model, X_val_resized)\n",
        "print(f\"Inference time: {predictions:.4f} seconds\")"
      ]
    },
    {
      "cell_type": "code",
      "execution_count": 14,
      "id": "ab98029d",
      "metadata": {
        "colab": {
          "base_uri": "https://localhost:8080/"
        },
        "id": "ab98029d",
        "outputId": "f5a6bbc0-a497-429c-8257-75a698baec92"
      },
      "outputs": [
        {
          "output_type": "stream",
          "name": "stdout",
          "text": [
            "\u001b[1m63/63\u001b[0m \u001b[32m━━━━━━━━━━━━━━━━━━━━\u001b[0m\u001b[37m\u001b[0m \u001b[1m9s\u001b[0m 139ms/step - accuracy: 0.0488 - loss: 2.9961\n",
            "Training Accuracy: 0.0489\n",
            "Training Loss: 2.9960\n",
            "Validation Accuracy: 0.0410\n",
            "Validation Loss: 2.9981\n",
            "Test Accuracy: 0.0500\n",
            "Test Loss: 2.9959\n"
          ]
        }
      ],
      "source": [
        "final_epoch = -1  # last epoch\n",
        "\n",
        "train_loss = history.history['loss'][final_epoch]\n",
        "train_accuracy = history.history['accuracy'][final_epoch]\n",
        "val_loss = history.history['val_loss'][final_epoch]\n",
        "val_accuracy = history.history['val_accuracy'][final_epoch]\n",
        "test_loss, test_accuracy = model.evaluate(test_dataset)\n",
        "\n",
        "print(f\"Training Accuracy: {train_accuracy:.4f}\")\n",
        "print(f\"Training Loss: {train_loss:.4f}\")\n",
        "print(f\"Validation Accuracy: {val_accuracy:.4f}\")\n",
        "print(f\"Validation Loss: {val_loss:.4f}\")\n",
        "print(f\"Test Accuracy: {test_accuracy:.4f}\")\n",
        "print(f\"Test Loss: {test_loss:.4f}\")"
      ]
    },
    {
      "cell_type": "markdown",
      "id": "3j51M-luK4Ag",
      "metadata": {
        "id": "3j51M-luK4Ag"
      },
      "source": [
        "### Model-6. NasaNetMobile"
      ]
    },
    {
      "cell_type": "code",
      "execution_count": 15,
      "id": "Ici2t3c0LA02",
      "metadata": {
        "colab": {
          "base_uri": "https://localhost:8080/"
        },
        "id": "Ici2t3c0LA02",
        "outputId": "6cc71c61-c4ee-45ab-de01-111b30716304"
      },
      "outputs": [
        {
          "output_type": "stream",
          "name": "stdout",
          "text": [
            "Downloading data from https://storage.googleapis.com/tensorflow/keras-applications/nasnet/NASNet-mobile-no-top.h5\n",
            "\u001b[1m19993432/19993432\u001b[0m \u001b[32m━━━━━━━━━━━━━━━━━━━━\u001b[0m\u001b[37m\u001b[0m \u001b[1m2s\u001b[0m 0us/step\n",
            "Epoch 1/5\n",
            "\u001b[1m282/282\u001b[0m \u001b[32m━━━━━━━━━━━━━━━━━━━━\u001b[0m\u001b[37m\u001b[0m \u001b[1m129s\u001b[0m 307ms/step - accuracy: 0.2434 - loss: 2.7917 - val_accuracy: 0.3940 - val_loss: 1.9751\n",
            "Epoch 2/5\n",
            "\u001b[1m282/282\u001b[0m \u001b[32m━━━━━━━━━━━━━━━━━━━━\u001b[0m\u001b[37m\u001b[0m \u001b[1m51s\u001b[0m 67ms/step - accuracy: 0.5052 - loss: 1.6339 - val_accuracy: 0.5410 - val_loss: 1.6080\n",
            "Epoch 3/5\n",
            "\u001b[1m282/282\u001b[0m \u001b[32m━━━━━━━━━━━━━━━━━━━━\u001b[0m\u001b[37m\u001b[0m \u001b[1m19s\u001b[0m 66ms/step - accuracy: 0.6435 - loss: 1.1775 - val_accuracy: 0.6500 - val_loss: 1.4214\n",
            "Epoch 4/5\n",
            "\u001b[1m282/282\u001b[0m \u001b[32m━━━━━━━━━━━━━━━━━━━━\u001b[0m\u001b[37m\u001b[0m \u001b[1m20s\u001b[0m 70ms/step - accuracy: 0.7365 - loss: 0.8612 - val_accuracy: 0.6730 - val_loss: 1.4254\n",
            "Epoch 5/5\n",
            "\u001b[1m282/282\u001b[0m \u001b[32m━━━━━━━━━━━━━━━━━━━━\u001b[0m\u001b[37m\u001b[0m \u001b[1m19s\u001b[0m 66ms/step - accuracy: 0.7943 - loss: 0.6557 - val_accuracy: 0.6560 - val_loss: 1.4044\n",
            "\u001b[1m32/32\u001b[0m \u001b[32m━━━━━━━━━━━━━━━━━━━━\u001b[0m\u001b[37m\u001b[0m \u001b[1m43s\u001b[0m 739ms/step\n",
            "Inference time: 43.1550 seconds\n"
          ]
        }
      ],
      "source": [
        "from tensorflow.keras.applications import NASNetMobile\n",
        "\n",
        "nasnetmobile = NASNetMobile(input_tensor = Input(shape=(224, 224, 3)), weights='imagenet', include_top=False)\n",
        "nasnetmobile.trainable = False\n",
        "x = nasnetmobile.output\n",
        "x = Flatten()(x)\n",
        "x = Dense(32, activation = 'relu', name = 'Dense-layer')(x)\n",
        "outputs = Dense(20, activation = 'softmax', name = 'output-layer')(x)\n",
        "model = Model(nasnetmobile.input, outputs, name = 'NasaNetMobile')\n",
        "model.compile(optimizer=tf.keras.optimizers.Adam(0.001), loss = 'sparse_categorical_crossentropy', metrics = ['accuracy'])\n",
        "history = model.fit(train_dataset, epochs=5, validation_data = val_dataset)\n",
        "\n",
        "X_val_resized = tf.image.resize(X_val, (224, 224))\n",
        "\n",
        "predictions = inference_time(model, X_val_resized)\n",
        "print(f\"Inference time: {predictions:.4f} seconds\")"
      ]
    },
    {
      "cell_type": "code",
      "execution_count": 16,
      "id": "P6SNYnrpLT-D",
      "metadata": {
        "colab": {
          "base_uri": "https://localhost:8080/"
        },
        "id": "P6SNYnrpLT-D",
        "outputId": "583ba7a4-a03c-4081-8673-d115ca7d1c54"
      },
      "outputs": [
        {
          "output_type": "stream",
          "name": "stdout",
          "text": [
            "\u001b[1m63/63\u001b[0m \u001b[32m━━━━━━━━━━━━━━━━━━━━\u001b[0m\u001b[37m\u001b[0m \u001b[1m23s\u001b[0m 363ms/step - accuracy: 0.6702 - loss: 1.2864\n",
            "Training Accuracy: 0.7892\n",
            "Training Loss: 0.6292\n",
            "Validation Accuracy: 0.6560\n",
            "Validation Loss: 1.4044\n",
            "Test Accuracy: 0.6890\n",
            "Test Loss: 1.2547\n"
          ]
        }
      ],
      "source": [
        "final_epoch = -1  # last epoch\n",
        "\n",
        "train_loss = history.history['loss'][final_epoch]\n",
        "train_accuracy = history.history['accuracy'][final_epoch]\n",
        "val_loss = history.history['val_loss'][final_epoch]\n",
        "val_accuracy = history.history['val_accuracy'][final_epoch]\n",
        "test_loss, test_accuracy = model.evaluate(test_dataset)\n",
        "\n",
        "print(f\"Training Accuracy: {train_accuracy:.4f}\")\n",
        "print(f\"Training Loss: {train_loss:.4f}\")\n",
        "print(f\"Validation Accuracy: {val_accuracy:.4f}\")\n",
        "print(f\"Validation Loss: {val_loss:.4f}\")\n",
        "print(f\"Test Accuracy: {test_accuracy:.4f}\")\n",
        "print(f\"Test Loss: {test_loss:.4f}\")"
      ]
    },
    {
      "cell_type": "markdown",
      "id": "Hp7l4NK-MNeH",
      "metadata": {
        "id": "Hp7l4NK-MNeH"
      },
      "source": [
        "### Model-7. ResNet101"
      ]
    },
    {
      "cell_type": "code",
      "execution_count": 17,
      "id": "oB7vAKS6MJqp",
      "metadata": {
        "colab": {
          "base_uri": "https://localhost:8080/"
        },
        "id": "oB7vAKS6MJqp",
        "outputId": "98be31a0-c590-48aa-e0c9-dc0380d66c7b"
      },
      "outputs": [
        {
          "output_type": "stream",
          "name": "stdout",
          "text": [
            "Downloading data from https://storage.googleapis.com/tensorflow/keras-applications/resnet/resnet101_weights_tf_dim_ordering_tf_kernels_notop.h5\n",
            "\u001b[1m171446536/171446536\u001b[0m \u001b[32m━━━━━━━━━━━━━━━━━━━━\u001b[0m\u001b[37m\u001b[0m \u001b[1m8s\u001b[0m 0us/step\n",
            "Epoch 1/5\n",
            "\u001b[1m282/282\u001b[0m \u001b[32m━━━━━━━━━━━━━━━━━━━━\u001b[0m\u001b[37m\u001b[0m \u001b[1m82s\u001b[0m 229ms/step - accuracy: 0.0506 - loss: 3.2482 - val_accuracy: 0.0500 - val_loss: 2.9963\n",
            "Epoch 2/5\n",
            "\u001b[1m282/282\u001b[0m \u001b[32m━━━━━━━━━━━━━━━━━━━━\u001b[0m\u001b[37m\u001b[0m \u001b[1m61s\u001b[0m 175ms/step - accuracy: 0.0473 - loss: 2.9960 - val_accuracy: 0.0450 - val_loss: 2.9969\n",
            "Epoch 3/5\n",
            "\u001b[1m282/282\u001b[0m \u001b[32m━━━━━━━━━━━━━━━━━━━━\u001b[0m\u001b[37m\u001b[0m \u001b[1m49s\u001b[0m 172ms/step - accuracy: 0.0426 - loss: 2.9959 - val_accuracy: 0.0450 - val_loss: 2.9974\n",
            "Epoch 4/5\n",
            "\u001b[1m282/282\u001b[0m \u001b[32m━━━━━━━━━━━━━━━━━━━━\u001b[0m\u001b[37m\u001b[0m \u001b[1m83s\u001b[0m 174ms/step - accuracy: 0.0499 - loss: 2.9959 - val_accuracy: 0.0490 - val_loss: 2.9976\n",
            "Epoch 5/5\n",
            "\u001b[1m282/282\u001b[0m \u001b[32m━━━━━━━━━━━━━━━━━━━━\u001b[0m\u001b[37m\u001b[0m \u001b[1m49s\u001b[0m 173ms/step - accuracy: 0.0517 - loss: 2.9959 - val_accuracy: 0.0410 - val_loss: 2.9979\n",
            "\u001b[1m32/32\u001b[0m \u001b[32m━━━━━━━━━━━━━━━━━━━━\u001b[0m\u001b[37m\u001b[0m \u001b[1m20s\u001b[0m 409ms/step\n",
            "Inference time: 19.9797 seconds\n"
          ]
        }
      ],
      "source": [
        "from tensorflow.keras.applications import ResNet101\n",
        "\n",
        "resnet101 = ResNet101(input_tensor = Input(shape=(224, 224, 3)), weights='imagenet', include_top=False)\n",
        "resnet101.trainable = False\n",
        "x = resnet101.output\n",
        "x = Flatten()(x)\n",
        "x = Dense(32, activation = 'relu', name = 'Dense-layer')(x)\n",
        "outputs = Dense(20, activation = 'softmax', name = 'output-layer')(x)\n",
        "model = Model(resnet101.input, outputs, name = 'ResNet101')\n",
        "model.compile(optimizer=tf.keras.optimizers.Adam(0.001), loss = 'sparse_categorical_crossentropy', metrics = ['accuracy'])\n",
        "history = model.fit(train_dataset, epochs=5, validation_data = val_dataset)\n",
        "\n",
        "X_val_resized = tf.image.resize(X_val, (224, 224))\n",
        "\n",
        "predictions = inference_time(model, X_val_resized)\n",
        "print(f\"Inference time: {predictions:.4f} seconds\")"
      ]
    },
    {
      "cell_type": "code",
      "execution_count": 18,
      "id": "thWiOSEqMj79",
      "metadata": {
        "colab": {
          "base_uri": "https://localhost:8080/"
        },
        "id": "thWiOSEqMj79",
        "outputId": "9de314b2-a63c-41d2-fcfa-466226b46c94"
      },
      "outputs": [
        {
          "output_type": "stream",
          "name": "stdout",
          "text": [
            "\u001b[1m63/63\u001b[0m \u001b[32m━━━━━━━━━━━━━━━━━━━━\u001b[0m\u001b[37m\u001b[0m \u001b[1m12s\u001b[0m 197ms/step - accuracy: 0.0488 - loss: 2.9960\n",
            "Training Accuracy: 0.0499\n",
            "Training Loss: 2.9960\n",
            "Validation Accuracy: 0.0410\n",
            "Validation Loss: 2.9979\n",
            "Test Accuracy: 0.0500\n",
            "Test Loss: 2.9958\n"
          ]
        }
      ],
      "source": [
        "final_epoch = -1  # last epoch\n",
        "\n",
        "train_loss = history.history['loss'][final_epoch]\n",
        "train_accuracy = history.history['accuracy'][final_epoch]\n",
        "val_loss = history.history['val_loss'][final_epoch]\n",
        "val_accuracy = history.history['val_accuracy'][final_epoch]\n",
        "test_loss, test_accuracy = model.evaluate(test_dataset)\n",
        "\n",
        "print(f\"Training Accuracy: {train_accuracy:.4f}\")\n",
        "print(f\"Training Loss: {train_loss:.4f}\")\n",
        "print(f\"Validation Accuracy: {val_accuracy:.4f}\")\n",
        "print(f\"Validation Loss: {val_loss:.4f}\")\n",
        "print(f\"Test Accuracy: {test_accuracy:.4f}\")\n",
        "print(f\"Test Loss: {test_loss:.4f}\")"
      ]
    },
    {
      "cell_type": "markdown",
      "id": "8vkZ_mH0Muux",
      "metadata": {
        "id": "8vkZ_mH0Muux"
      },
      "source": [
        "### Model-8. Xception"
      ]
    },
    {
      "cell_type": "code",
      "execution_count": 19,
      "id": "HhnQ5JntM9zO",
      "metadata": {
        "colab": {
          "base_uri": "https://localhost:8080/"
        },
        "id": "HhnQ5JntM9zO",
        "outputId": "47aa9013-4eca-4bbf-a85c-cd8343327b8e"
      },
      "outputs": [
        {
          "output_type": "stream",
          "name": "stdout",
          "text": [
            "Downloading data from https://storage.googleapis.com/tensorflow/keras-applications/xception/xception_weights_tf_dim_ordering_tf_kernels_notop.h5\n",
            "\u001b[1m83683744/83683744\u001b[0m \u001b[32m━━━━━━━━━━━━━━━━━━━━\u001b[0m\u001b[37m\u001b[0m \u001b[1m5s\u001b[0m 0us/step\n",
            "Epoch 1/5\n",
            "\u001b[1m282/282\u001b[0m \u001b[32m━━━━━━━━━━━━━━━━━━━━\u001b[0m\u001b[37m\u001b[0m \u001b[1m80s\u001b[0m 204ms/step - accuracy: 0.4050 - loss: 2.2531 - val_accuracy: 0.6600 - val_loss: 1.3315\n",
            "Epoch 2/5\n",
            "\u001b[1m282/282\u001b[0m \u001b[32m━━━━━━━━━━━━━━━━━━━━\u001b[0m\u001b[37m\u001b[0m \u001b[1m39s\u001b[0m 136ms/step - accuracy: 0.6947 - loss: 1.0651 - val_accuracy: 0.6780 - val_loss: 1.2342\n",
            "Epoch 3/5\n",
            "\u001b[1m282/282\u001b[0m \u001b[32m━━━━━━━━━━━━━━━━━━━━\u001b[0m\u001b[37m\u001b[0m \u001b[1m42s\u001b[0m 141ms/step - accuracy: 0.7826 - loss: 0.7117 - val_accuracy: 0.7350 - val_loss: 1.2426\n",
            "Epoch 4/5\n",
            "\u001b[1m282/282\u001b[0m \u001b[32m━━━━━━━━━━━━━━━━━━━━\u001b[0m\u001b[37m\u001b[0m \u001b[1m41s\u001b[0m 140ms/step - accuracy: 0.8381 - loss: 0.4920 - val_accuracy: 0.7420 - val_loss: 1.2407\n",
            "Epoch 5/5\n",
            "\u001b[1m282/282\u001b[0m \u001b[32m━━━━━━━━━━━━━━━━━━━━\u001b[0m\u001b[37m\u001b[0m \u001b[1m40s\u001b[0m 135ms/step - accuracy: 0.8705 - loss: 0.3988 - val_accuracy: 0.7470 - val_loss: 1.3286\n",
            "\u001b[1m32/32\u001b[0m \u001b[32m━━━━━━━━━━━━━━━━━━━━\u001b[0m\u001b[37m\u001b[0m \u001b[1m13s\u001b[0m 269ms/step\n",
            "Inference time: 20.5069 seconds\n"
          ]
        }
      ],
      "source": [
        "from tensorflow.keras.applications import Xception\n",
        "\n",
        "xception = Xception(input_tensor = Input(shape=(224, 224, 3)), weights='imagenet', include_top=False)\n",
        "xception.trainable = False\n",
        "x = xception.output\n",
        "x = Flatten()(x)\n",
        "x = Dense(32, activation = 'relu', name = 'Dense-layer')(x)\n",
        "outputs = Dense(20, activation = 'softmax', name = 'output-layer')(x)\n",
        "model = Model(xception.input, outputs, name = 'Xception')\n",
        "model.compile(optimizer=tf.keras.optimizers.Adam(0.001), loss = 'sparse_categorical_crossentropy', metrics = ['accuracy'])\n",
        "history = model.fit(train_dataset, epochs=5, validation_data = val_dataset)\n",
        "\n",
        "X_val_resized = tf.image.resize(X_val, (224, 224))\n",
        "\n",
        "predictions = inference_time(model, X_val_resized)\n",
        "print(f\"Inference time: {predictions:.4f} seconds\")"
      ]
    },
    {
      "cell_type": "code",
      "execution_count": 20,
      "id": "ZmRtNwWZNt_I",
      "metadata": {
        "colab": {
          "base_uri": "https://localhost:8080/"
        },
        "id": "ZmRtNwWZNt_I",
        "outputId": "f1b8ed29-e970-4d84-db80-fbff9539a410"
      },
      "outputs": [
        {
          "output_type": "stream",
          "name": "stdout",
          "text": [
            "\u001b[1m63/63\u001b[0m \u001b[32m━━━━━━━━━━━━━━━━━━━━\u001b[0m\u001b[37m\u001b[0m \u001b[1m19s\u001b[0m 306ms/step - accuracy: 0.7518 - loss: 1.4129\n",
            "Training Accuracy: 0.8723\n",
            "Training Loss: 0.3864\n",
            "Validation Accuracy: 0.7470\n",
            "Validation Loss: 1.3286\n",
            "Test Accuracy: 0.7620\n",
            "Test Loss: 1.2798\n"
          ]
        }
      ],
      "source": [
        "final_epoch = -1  # last epoch\n",
        "\n",
        "train_loss = history.history['loss'][final_epoch]\n",
        "train_accuracy = history.history['accuracy'][final_epoch]\n",
        "val_loss = history.history['val_loss'][final_epoch]\n",
        "val_accuracy = history.history['val_accuracy'][final_epoch]\n",
        "test_loss, test_accuracy = model.evaluate(test_dataset)\n",
        "\n",
        "print(f\"Training Accuracy: {train_accuracy:.4f}\")\n",
        "print(f\"Training Loss: {train_loss:.4f}\")\n",
        "print(f\"Validation Accuracy: {val_accuracy:.4f}\")\n",
        "print(f\"Validation Loss: {val_loss:.4f}\")\n",
        "print(f\"Test Accuracy: {test_accuracy:.4f}\")\n",
        "print(f\"Test Loss: {test_loss:.4f}\")"
      ]
    },
    {
      "cell_type": "markdown",
      "id": "3NZPF6kRNwek",
      "metadata": {
        "id": "3NZPF6kRNwek"
      },
      "source": [
        "### Model -9.InceptionV3"
      ]
    },
    {
      "cell_type": "code",
      "execution_count": 21,
      "id": "3_88lfhaN8k5",
      "metadata": {
        "colab": {
          "base_uri": "https://localhost:8080/"
        },
        "id": "3_88lfhaN8k5",
        "outputId": "af5feba8-b931-4e77-c884-9c98e1b8f915"
      },
      "outputs": [
        {
          "output_type": "stream",
          "name": "stdout",
          "text": [
            "Downloading data from https://storage.googleapis.com/tensorflow/keras-applications/inception_v3/inception_v3_weights_tf_dim_ordering_tf_kernels_notop.h5\n",
            "\u001b[1m87910968/87910968\u001b[0m \u001b[32m━━━━━━━━━━━━━━━━━━━━\u001b[0m\u001b[37m\u001b[0m \u001b[1m5s\u001b[0m 0us/step\n",
            "Epoch 1/5\n",
            "\u001b[1m282/282\u001b[0m \u001b[32m━━━━━━━━━━━━━━━━━━━━\u001b[0m\u001b[37m\u001b[0m \u001b[1m54s\u001b[0m 136ms/step - accuracy: 0.0944 - loss: 3.9752 - val_accuracy: 0.1350 - val_loss: 2.7093\n",
            "Epoch 2/5\n",
            "\u001b[1m282/282\u001b[0m \u001b[32m━━━━━━━━━━━━━━━━━━━━\u001b[0m\u001b[37m\u001b[0m \u001b[1m21s\u001b[0m 73ms/step - accuracy: 0.1522 - loss: 2.6421 - val_accuracy: 0.1480 - val_loss: 2.5655\n",
            "Epoch 3/5\n",
            "\u001b[1m282/282\u001b[0m \u001b[32m━━━━━━━━━━━━━━━━━━━━\u001b[0m\u001b[37m\u001b[0m \u001b[1m22s\u001b[0m 75ms/step - accuracy: 0.1764 - loss: 2.5160 - val_accuracy: 0.1790 - val_loss: 2.5208\n",
            "Epoch 4/5\n",
            "\u001b[1m282/282\u001b[0m \u001b[32m━━━━━━━━━━━━━━━━━━━━\u001b[0m\u001b[37m\u001b[0m \u001b[1m40s\u001b[0m 72ms/step - accuracy: 0.2022 - loss: 2.3519 - val_accuracy: 0.1910 - val_loss: 2.4904\n",
            "Epoch 5/5\n",
            "\u001b[1m282/282\u001b[0m \u001b[32m━━━━━━━━━━━━━━━━━━━━\u001b[0m\u001b[37m\u001b[0m \u001b[1m41s\u001b[0m 73ms/step - accuracy: 0.2247 - loss: 2.2582 - val_accuracy: 0.2160 - val_loss: 2.4602\n",
            "\u001b[1m32/32\u001b[0m \u001b[32m━━━━━━━━━━━━━━━━━━━━\u001b[0m\u001b[37m\u001b[0m \u001b[1m15s\u001b[0m 276ms/step\n",
            "Inference time: 20.5671 seconds\n"
          ]
        }
      ],
      "source": [
        "from tensorflow.keras.applications import InceptionV3\n",
        "\n",
        "inceptionV3 = InceptionV3(input_tensor = Input(shape=(224, 224, 3)), weights='imagenet', include_top=False)\n",
        "inceptionV3.trainable = False\n",
        "x = inceptionV3.output\n",
        "x = Flatten()(x)\n",
        "x = Dense(32, activation = 'relu', name = 'Dense-layer')(x)\n",
        "outputs = Dense(20, activation = 'softmax', name = 'output-layer')(x)\n",
        "model = Model(inceptionV3.input, outputs, name = 'InceptionV3')\n",
        "model.compile(optimizer=tf.keras.optimizers.Adam(0.001), loss = 'sparse_categorical_crossentropy', metrics = ['accuracy'])\n",
        "history = model.fit(train_dataset, epochs=5, validation_data = val_dataset)\n",
        "\n",
        "X_val_resized = tf.image.resize(X_val, (224, 224))\n",
        "\n",
        "predictions = inference_time(model, X_val_resized)\n",
        "print(f\"Inference time: {predictions:.4f} seconds\")"
      ]
    },
    {
      "cell_type": "code",
      "execution_count": 22,
      "id": "Rs9HCJHSOXEa",
      "metadata": {
        "id": "Rs9HCJHSOXEa",
        "colab": {
          "base_uri": "https://localhost:8080/"
        },
        "outputId": "13bc94fb-8617-467c-de34-a3b3de99d1b2"
      },
      "outputs": [
        {
          "output_type": "stream",
          "name": "stdout",
          "text": [
            "\u001b[1m63/63\u001b[0m \u001b[32m━━━━━━━━━━━━━━━━━━━━\u001b[0m\u001b[37m\u001b[0m \u001b[1m10s\u001b[0m 163ms/step - accuracy: 0.2132 - loss: 2.5985\n",
            "Training Accuracy: 0.2283\n",
            "Training Loss: 2.2433\n",
            "Validation Accuracy: 0.2160\n",
            "Validation Loss: 2.4602\n",
            "Test Accuracy: 0.2150\n",
            "Test Loss: 2.5520\n"
          ]
        }
      ],
      "source": [
        "final_epoch = -1  # last epoch\n",
        "\n",
        "train_loss = history.history['loss'][final_epoch]\n",
        "train_accuracy = history.history['accuracy'][final_epoch]\n",
        "val_loss = history.history['val_loss'][final_epoch]\n",
        "val_accuracy = history.history['val_accuracy'][final_epoch]\n",
        "test_loss, test_accuracy = model.evaluate(test_dataset)\n",
        "\n",
        "print(f\"Training Accuracy: {train_accuracy:.4f}\")\n",
        "print(f\"Training Loss: {train_loss:.4f}\")\n",
        "print(f\"Validation Accuracy: {val_accuracy:.4f}\")\n",
        "print(f\"Validation Loss: {val_loss:.4f}\")\n",
        "print(f\"Test Accuracy: {test_accuracy:.4f}\")\n",
        "print(f\"Test Loss: {test_loss:.4f}\")"
      ]
    },
    {
      "cell_type": "markdown",
      "id": "-7Cru2nDPL00",
      "metadata": {
        "id": "-7Cru2nDPL00"
      },
      "source": [
        "### Model-10. ConvNextBase"
      ]
    },
    {
      "cell_type": "code",
      "execution_count": 23,
      "id": "e1GyHV0fPVEp",
      "metadata": {
        "id": "e1GyHV0fPVEp",
        "colab": {
          "base_uri": "https://localhost:8080/"
        },
        "outputId": "44a1e342-ac99-4e2a-99c5-08154f6bb51c"
      },
      "outputs": [
        {
          "output_type": "stream",
          "name": "stdout",
          "text": [
            "Downloading data from https://storage.googleapis.com/tensorflow/keras-applications/convnext/convnext_base_notop.h5\n",
            "\u001b[1m350926856/350926856\u001b[0m \u001b[32m━━━━━━━━━━━━━━━━━━━━\u001b[0m\u001b[37m\u001b[0m \u001b[1m17s\u001b[0m 0us/step\n",
            "Epoch 1/5\n",
            "\u001b[1m282/282\u001b[0m \u001b[32m━━━━━━━━━━━━━━━━━━━━\u001b[0m\u001b[37m\u001b[0m \u001b[1m152s\u001b[0m 454ms/step - accuracy: 0.0505 - loss: 3.6429 - val_accuracy: 0.0450 - val_loss: 2.9966\n",
            "Epoch 2/5\n",
            "\u001b[1m282/282\u001b[0m \u001b[32m━━━━━━━━━━━━━━━━━━━━\u001b[0m\u001b[37m\u001b[0m \u001b[1m121s\u001b[0m 415ms/step - accuracy: 0.0474 - loss: 2.9958 - val_accuracy: 0.0390 - val_loss: 2.9971\n",
            "Epoch 3/5\n",
            "\u001b[1m282/282\u001b[0m \u001b[32m━━━━━━━━━━━━━━━━━━━━\u001b[0m\u001b[37m\u001b[0m \u001b[1m107s\u001b[0m 378ms/step - accuracy: 0.0507 - loss: 2.9958 - val_accuracy: 0.0450 - val_loss: 2.9975\n",
            "Epoch 4/5\n",
            "\u001b[1m282/282\u001b[0m \u001b[32m━━━━━━━━━━━━━━━━━━━━\u001b[0m\u001b[37m\u001b[0m \u001b[1m117s\u001b[0m 413ms/step - accuracy: 0.0550 - loss: 2.9958 - val_accuracy: 0.0410 - val_loss: 2.9977\n",
            "Epoch 5/5\n",
            "\u001b[1m282/282\u001b[0m \u001b[32m━━━━━━━━━━━━━━━━━━━━\u001b[0m\u001b[37m\u001b[0m \u001b[1m142s\u001b[0m 414ms/step - accuracy: 0.0463 - loss: 2.9958 - val_accuracy: 0.0430 - val_loss: 2.9981\n",
            "\u001b[1m32/32\u001b[0m \u001b[32m━━━━━━━━━━━━━━━━━━━━\u001b[0m\u001b[37m\u001b[0m \u001b[1m24s\u001b[0m 532ms/step\n",
            "Inference time: 24.3132 seconds\n"
          ]
        }
      ],
      "source": [
        "from tensorflow.keras.applications import ConvNeXtBase\n",
        "\n",
        "convnextbase = ConvNeXtBase(input_tensor = Input(shape=(224, 224, 3)), weights='imagenet', include_top=False)\n",
        "convnextbase.trainable = False\n",
        "x = convnextbase.output\n",
        "x = Flatten()(x)\n",
        "x = Dense(32, activation = 'relu', name = 'Dense-layer')(x)\n",
        "outputs = Dense(20, activation = 'softmax', name = 'output-layer')(x)\n",
        "model = Model(convnextbase.input, outputs, name = 'ResNet')\n",
        "model.compile(optimizer=tf.keras.optimizers.Adam(0.001), loss = 'sparse_categorical_crossentropy', metrics = ['accuracy'])\n",
        "history = model.fit(train_dataset, epochs=5, validation_data = val_dataset)\n",
        "\n",
        "X_val_resized = tf.image.resize(X_val, (224, 224))\n",
        "\n",
        "predictions = inference_time(model, X_val_resized)\n",
        "print(f\"Inference time: {predictions:.4f} seconds\")"
      ]
    },
    {
      "cell_type": "code",
      "execution_count": 24,
      "id": "F8SIm0EaPi89",
      "metadata": {
        "id": "F8SIm0EaPi89",
        "colab": {
          "base_uri": "https://localhost:8080/"
        },
        "outputId": "c0b7037a-321b-41ba-ee1d-6d0323944d38"
      },
      "outputs": [
        {
          "output_type": "stream",
          "name": "stdout",
          "text": [
            "\u001b[1m63/63\u001b[0m \u001b[32m━━━━━━━━━━━━━━━━━━━━\u001b[0m\u001b[37m\u001b[0m \u001b[1m29s\u001b[0m 455ms/step - accuracy: 0.0528 - loss: 2.9961\n",
            "Training Accuracy: 0.0483\n",
            "Training Loss: 2.9959\n",
            "Validation Accuracy: 0.0430\n",
            "Validation Loss: 2.9981\n",
            "Test Accuracy: 0.0500\n",
            "Test Loss: 2.9959\n"
          ]
        }
      ],
      "source": [
        "final_epoch = -1  # last epoch\n",
        "\n",
        "train_loss = history.history['loss'][final_epoch]\n",
        "train_accuracy = history.history['accuracy'][final_epoch]\n",
        "val_loss = history.history['val_loss'][final_epoch]\n",
        "val_accuracy = history.history['val_accuracy'][final_epoch]\n",
        "test_loss, test_accuracy = model.evaluate(test_dataset)\n",
        "\n",
        "print(f\"Training Accuracy: {train_accuracy:.4f}\")\n",
        "print(f\"Training Loss: {train_loss:.4f}\")\n",
        "print(f\"Validation Accuracy: {val_accuracy:.4f}\")\n",
        "print(f\"Validation Loss: {val_loss:.4f}\")\n",
        "print(f\"Test Accuracy: {test_accuracy:.4f}\")\n",
        "print(f\"Test Loss: {test_loss:.4f}\")"
      ]
    },
    {
      "cell_type": "markdown",
      "source": [
        "### Accuracy and Loss"
      ],
      "metadata": {
        "id": "adp0BiPLNiLM"
      },
      "id": "adp0BiPLNiLM"
    },
    {
      "cell_type": "code",
      "source": [
        "import matplotlib.pyplot as plt\n",
        "import numpy as np\n",
        "\n",
        "models = [\"VGG16\", \"VGG19\", \"DenseNet121\", \"MobileNetV2\", \"ResNet50\",\n",
        "          \"NasaNetMobile\", \"ResNet101\", \"Xception\", \"InceptionV3\", \"ConvNextBase\"]\n",
        "\n",
        "accuracy = [0.0500, 0.0500, 0.1195, 0.2360, 0.0500, 0.6890, 0.0500, 0.7620, 0.2150, 0.0500]\n",
        "loss     = [2.9958, 2.9958, 2.6613, 2.3598, 2.9959, 1.2547, 2.9958, 1.2798, 2.5520, 2.9959]\n",
        "\n",
        "# X locations for groups\n",
        "x = np.arange(len(models))\n",
        "width = 0.35  # bar width\n",
        "\n",
        "fig, ax = plt.subplots(figsize=(12, 6))\n",
        "\n",
        "# Bars for accuracy and loss\n",
        "rects1 = ax.bar(x - width/2, accuracy, width, label='Accuracy')\n",
        "rects2 = ax.bar(x + width/2, loss, width, label='Loss')\n",
        "\n",
        "# Labels and title\n",
        "ax.set_ylabel('Accuracy')\n",
        "ax.set_title('Accuracy and Loss for Pretrained Models')\n",
        "ax.set_xticks(x)\n",
        "ax.set_xticklabels(models, rotation=45, ha='right')\n",
        "ax.legend()\n",
        "\n",
        "# Function to add values on top of bars\n",
        "def autolabel(rects):\n",
        "    for rect in rects:\n",
        "        height = rect.get_height()\n",
        "        ax.annotate(f'{height:.2f}',\n",
        "                    xy=(rect.get_x() + rect.get_width()/2, height),\n",
        "                    xytext=(0, 3),\n",
        "                    textcoords=\"offset points\",\n",
        "                    ha='center', va='bottom')\n",
        "\n",
        "autolabel(rects1)\n",
        "autolabel(rects2)\n",
        "\n",
        "plt.tight_layout()\n",
        "plt.show()\n"
      ],
      "metadata": {
        "colab": {
          "base_uri": "https://localhost:8080/",
          "height": 541
        },
        "id": "2TPNMzLTNm1p",
        "outputId": "27568455-c662-407f-8684-5a9a613eb338"
      },
      "id": "2TPNMzLTNm1p",
      "execution_count": 25,
      "outputs": [
        {
          "output_type": "display_data",
          "data": {
            "text/plain": [
              "<Figure size 1200x600 with 1 Axes>"
            ],
            "image/png": "[encoded data removed]"
          },
          "metadata": {}
        }
      ]
    },
    {
      "cell_type": "markdown",
      "source": [
        "### Inference time"
      ],
      "metadata": {
        "id": "ZboXNq_RN3S_"
      },
      "id": "ZboXNq_RN3S_"
    },
    {
      "cell_type": "code",
      "source": [
        "import matplotlib.pyplot as plt\n",
        "\n",
        "model_names = [\"VGG16\", \"VGG19\", \"DenseNet121\", \"MobileNetV2\", \"ResNet50\",\n",
        "          \"NasaNetMobile\", \"ResNet101\", \"Xception\", \"InceptionV3\", \"ConvNextBase\"]\n",
        "\n",
        "inference_times = [10.4609, 8.0746, 40.9883, 10.2779, 20.6890,\n",
        "                   43.1550, 19.9797, 19.9797, 20.5671, 24.3132]  # <-- replace with your values\n",
        "\n",
        "# Plot bar chart\n",
        "plt.figure(figsize=(12,6))\n",
        "bars = plt.bar(model_names, inference_times, color=\"skyblue\")\n",
        "\n",
        "# Add labels\n",
        "plt.ylabel(\"Inference Time (seconds)\")\n",
        "plt.title(\"Inference Time of Pretrained Models\")\n",
        "plt.xticks(rotation=45, ha=\"right\")\n",
        "\n",
        "# Add values on top of each bar\n",
        "for bar, t in zip(bars, inference_times):\n",
        "    plt.text(bar.get_x() + bar.get_width()/2, bar.get_height() + 0.002,\n",
        "             f\"{t:.4f}\", ha='center', va='bottom')\n",
        "\n",
        "plt.tight_layout()\n",
        "plt.show()\n"
      ],
      "metadata": {
        "colab": {
          "base_uri": "https://localhost:8080/",
          "height": 541
        },
        "id": "c4Q2naAzN6R2",
        "outputId": "2ae6670b-98e8-4dc3-eda1-1fa8b9fdc933"
      },
      "id": "c4Q2naAzN6R2",
      "execution_count": 26,
      "outputs": [
        {
          "output_type": "display_data",
          "data": {
            "text/plain": [
              "<Figure size 1200x600 with 1 Axes>"
            ],
            "image/png": "[encoded data removed]"
          },
          "metadata": {}
        }
      ]
    },
    {
      "cell_type": "markdown",
      "id": "OzXVMSXDOeBH",
      "metadata": {
        "id": "OzXVMSXDOeBH"
      },
      "source": []
    }
  ],
  "metadata": {
    "accelerator": "GPU",
    "colab": {
      "gpuType": "T4",
      "provenance": []
    },
    "kernelspec": {
      "display_name": "Python 3",
      "name": "python3"
    },
    "language_info": {
      "codemirror_mode": {
        "name": "ipython",
        "version": 3
      },
      "file_extension": ".py",
      "mimetype": "text/x-python",
      "name": "python",
      "nbconvert_exporter": "python",
      "pygments_lexer": "ipython3",
      "version": "3.10.12"
    }
  },
  "nbformat": 4,
  "nbformat_minor": 5
}